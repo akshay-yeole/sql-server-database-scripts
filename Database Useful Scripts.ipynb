{
    "metadata": {
        "kernelspec": {
            "name": "SQL",
            "display_name": "SQL",
            "language": "sql"
        },
        "language_info": {
            "name": "sql",
            "version": ""
        }
    },
    "nbformat_minor": 2,
    "nbformat": 4,
    "cells": [
        {
            "cell_type": "code",
            "source": [
                "--Table Exists Or Not\r\n",
                "IF EXISTS (SELECT * FROM INFORMATION_SCHEMA.TABLES WHERE TABLE_NAME = 'YourTableName' AND TABLE_SCHEMA = 'YourSchema')\r\n",
                "BEGIN\r\n",
                "    PRINT 'Table exists.'\r\n",
                "END\r\n",
                "ELSE\r\n",
                "BEGIN\r\n",
                "    PRINT 'Table does not exist.'\r\n",
                "END"
            ],
            "metadata": {
                "azdata_cell_guid": "02522b1f-197f-4bfd-89a8-b8227797922e",
                "language": "sql"
            },
            "outputs": [],
            "execution_count": null
        },
        {
            "cell_type": "code",
            "source": [
                "-- Stored Procedure Exists Or Not\r\n",
                "IF EXISTS (SELECT * FROM INFORMATION_SCHEMA.ROUTINES WHERE ROUTINE_TYPE = 'PROCEDURE' AND ROUTINE_NAME = 'YourProcedureName' AND ROUTINE_SCHEMA = 'YourSchema')\r\n",
                "BEGIN\r\n",
                "    PRINT 'Stored procedure exists.'\r\n",
                "END\r\n",
                "ELSE\r\n",
                "BEGIN\r\n",
                "    PRINT 'Stored procedure does not exist.'\r\n",
                "END"
            ],
            "metadata": {
                "azdata_cell_guid": "c8cb2a29-aeee-40d1-bb6e-4da9ce35f0ff",
                "language": "sql"
            },
            "outputs": [],
            "execution_count": null
        }
    ]
}